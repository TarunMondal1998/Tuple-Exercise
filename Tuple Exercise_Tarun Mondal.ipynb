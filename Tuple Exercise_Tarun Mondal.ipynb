{
 "cells": [
  {
   "cell_type": "markdown",
   "id": "6c460807",
   "metadata": {},
   "source": [
    "# Question 1"
   ]
  },
  {
   "cell_type": "code",
   "execution_count": 1,
   "id": "a2ec07b9",
   "metadata": {},
   "outputs": [],
   "source": [
    "question_1 = ()"
   ]
  },
  {
   "cell_type": "code",
   "execution_count": 2,
   "id": "3bea28a3",
   "metadata": {},
   "outputs": [
    {
     "name": "stdout",
     "output_type": "stream",
     "text": [
      "Tuple= ()\n"
     ]
    }
   ],
   "source": [
    "print(\"Tuple=\", question_1)"
   ]
  },
  {
   "cell_type": "markdown",
   "id": "0a6be641",
   "metadata": {},
   "source": [
    "# Question 2"
   ]
  },
  {
   "cell_type": "code",
   "execution_count": 3,
   "id": "7240f3a0",
   "metadata": {},
   "outputs": [],
   "source": [
    "question_2 = ('Tutor Joes', True, 'T', 3.21, 10)"
   ]
  },
  {
   "cell_type": "code",
   "execution_count": 4,
   "id": "af36d585",
   "metadata": {},
   "outputs": [
    {
     "data": {
      "text/plain": [
       "('Tutor Joes', True, 'T', 3.21, 10)"
      ]
     },
     "execution_count": 4,
     "metadata": {},
     "output_type": "execute_result"
    }
   ],
   "source": [
    "question_2"
   ]
  },
  {
   "cell_type": "markdown",
   "id": "e7ad6c46",
   "metadata": {},
   "source": [
    "# Question 3"
   ]
  },
  {
   "cell_type": "code",
   "execution_count": 5,
   "id": "af820ae1",
   "metadata": {},
   "outputs": [
    {
     "name": "stdout",
     "output_type": "stream",
     "text": [
      "(10, 6)\n",
      "<class 'tuple'>\n"
     ]
    }
   ],
   "source": [
    "question_3 = 10,6\n",
    "print(question_3)\n",
    "print(type(question_3))"
   ]
  },
  {
   "cell_type": "markdown",
   "id": "c790033f",
   "metadata": {},
   "source": [
    "# Question 4"
   ]
  },
  {
   "cell_type": "code",
   "execution_count": 6,
   "id": "feefe6d9",
   "metadata": {},
   "outputs": [
    {
     "data": {
      "text/plain": [
       "(1, 3, 5, 7, 9, 11)"
      ]
     },
     "execution_count": 6,
     "metadata": {},
     "output_type": "execute_result"
    }
   ],
   "source": [
    "question_4 = 1,3, 5, 7, 9, 11\n",
    "question_4"
   ]
  },
  {
   "cell_type": "markdown",
   "id": "0a9eecf2",
   "metadata": {},
   "source": [
    "# Question 5"
   ]
  },
  {
   "cell_type": "code",
   "execution_count": 7,
   "id": "b9c5f301",
   "metadata": {},
   "outputs": [
    {
     "data": {
      "text/plain": [
       "(10, 40, 50, 70, 90, 20)"
      ]
     },
     "execution_count": 7,
     "metadata": {},
     "output_type": "execute_result"
    }
   ],
   "source": [
    "question_5 = (10, 40, 50, 70, 90)\n",
    "add_item = (20,)\n",
    "new_tuple = question_5 + add_item\n",
    "new_tuple"
   ]
  },
  {
   "cell_type": "markdown",
   "id": "968d3a4d",
   "metadata": {},
   "source": [
    "# Question 6"
   ]
  },
  {
   "cell_type": "code",
   "execution_count": 8,
   "id": "244a0932",
   "metadata": {},
   "outputs": [],
   "source": [
    "question_6 = ('T', 'u', 't', 'o', 'r', ' ', 'J', 'o', 'e', 's')"
   ]
  },
  {
   "cell_type": "code",
   "execution_count": 9,
   "id": "a155843c",
   "metadata": {},
   "outputs": [
    {
     "name": "stdout",
     "output_type": "stream",
     "text": [
      "Tutor Joes\n"
     ]
    }
   ],
   "source": [
    "String = ''\n",
    "for i in question_6:\n",
    "    String = String+i\n",
    "print (String)"
   ]
  },
  {
   "cell_type": "markdown",
   "id": "6855d937",
   "metadata": {},
   "source": [
    "# Question 7"
   ]
  },
  {
   "cell_type": "code",
   "execution_count": 10,
   "id": "aa288078",
   "metadata": {},
   "outputs": [],
   "source": [
    "question_7 = ('w', 3, 'r', 'e', 's', 'o', 'u', 'r', 'c', 'e')"
   ]
  },
  {
   "cell_type": "code",
   "execution_count": 11,
   "id": "e2c1d3ad",
   "metadata": {},
   "outputs": [
    {
     "name": "stdout",
     "output_type": "stream",
     "text": [
      "The 4th elements of tuple is:  e\n",
      "The 4th elements from the last is:  u\n"
     ]
    }
   ],
   "source": [
    "print (\"The 4th elements of tuple is: \", question_7 [3])\n",
    "print (\"The 4th elements from the last is: \", question_7 [-4])"
   ]
  },
  {
   "cell_type": "markdown",
   "id": "dc47a999",
   "metadata": {},
   "source": [
    "# Question 8"
   ]
  },
  {
   "cell_type": "code",
   "execution_count": 12,
   "id": "608e6d08",
   "metadata": {},
   "outputs": [],
   "source": [
    "question_8 = (\"Tutor\", 'J', 23 , 56.67 , [23,12] , True)\n",
    "copy = ()\n",
    "copy = question_8"
   ]
  },
  {
   "cell_type": "code",
   "execution_count": 13,
   "id": "c95067b7",
   "metadata": {},
   "outputs": [
    {
     "name": "stdout",
     "output_type": "stream",
     "text": [
      "Copy = ('Tutor', 'J', 23, 56.67, [23, 12], True)\n"
     ]
    }
   ],
   "source": [
    "print (\"Copy =\", copy)"
   ]
  },
  {
   "cell_type": "markdown",
   "id": "e91b0b34",
   "metadata": {},
   "source": [
    "# Question 9"
   ]
  },
  {
   "cell_type": "code",
   "execution_count": 14,
   "id": "a0f455d6",
   "metadata": {},
   "outputs": [],
   "source": [
    "question_9 = (2, 34, 45, 6, 7, 2, 4, 5, 78, 34, 2)"
   ]
  },
  {
   "cell_type": "code",
   "execution_count": 15,
   "id": "7aaf66cd",
   "metadata": {},
   "outputs": [
    {
     "name": "stdout",
     "output_type": "stream",
     "text": [
      "Item = 2\n",
      "Repeated items of a tuple = 3\n"
     ]
    }
   ],
   "source": [
    "count = 0\n",
    "for i in question_9:\n",
    "    if question_9.count(i)>1:\n",
    "        count = count +1\n",
    "print (\"Item =\", i)\n",
    "print (\"Repeated items of a tuple =\", question_9.count(i))"
   ]
  },
  {
   "cell_type": "markdown",
   "id": "5d5166e4",
   "metadata": {},
   "source": [
    "# Question 10"
   ]
  },
  {
   "cell_type": "code",
   "execution_count": 16,
   "id": "d5f98342",
   "metadata": {},
   "outputs": [],
   "source": [
    "question_10 = ('T', 'u', 't', 'o', 'r', ' ', 'J', 'o', 'e', 's',8)"
   ]
  },
  {
   "cell_type": "code",
   "execution_count": 17,
   "id": "e1bae82b",
   "metadata": {},
   "outputs": [
    {
     "name": "stdout",
     "output_type": "stream",
     "text": [
      "Enter the element to check: x\n"
     ]
    }
   ],
   "source": [
    "user_input = input(\"Enter the element to check: \")"
   ]
  },
  {
   "cell_type": "code",
   "execution_count": 18,
   "id": "5e8139ab",
   "metadata": {},
   "outputs": [
    {
     "name": "stdout",
     "output_type": "stream",
     "text": [
      "x in Tuple: False\n"
     ]
    }
   ],
   "source": [
    "for i in question_10:\n",
    "    if str(i) == user_input:\n",
    "        results = True\n",
    "    else:\n",
    "        results = False\n",
    "\n",
    "print (f\"{user_input} in Tuple:\", results)"
   ]
  },
  {
   "cell_type": "markdown",
   "id": "8be81e06",
   "metadata": {},
   "source": [
    "# Question 11"
   ]
  },
  {
   "cell_type": "code",
   "execution_count": 19,
   "id": "fd2a9535",
   "metadata": {},
   "outputs": [],
   "source": [
    "question_11 = [12, 45, 87, 54, 89, 4]"
   ]
  },
  {
   "cell_type": "code",
   "execution_count": 20,
   "id": "56cca289",
   "metadata": {},
   "outputs": [
    {
     "data": {
      "text/plain": [
       "(12, 45, 87, 54, 89, 4)"
      ]
     },
     "execution_count": 20,
     "metadata": {},
     "output_type": "execute_result"
    }
   ],
   "source": [
    "tup = tuple(question_11)\n",
    "tup"
   ]
  },
  {
   "cell_type": "markdown",
   "id": "ccb723c6",
   "metadata": {},
   "source": [
    "# Question 12"
   ]
  },
  {
   "cell_type": "code",
   "execution_count": 21,
   "id": "9d07f321",
   "metadata": {},
   "outputs": [],
   "source": [
    "question_12 = (23, 45, 56, 68, 10, 45, 7, 9)"
   ]
  },
  {
   "cell_type": "code",
   "execution_count": 22,
   "id": "cd6eed92",
   "metadata": {},
   "outputs": [
    {
     "name": "stdout",
     "output_type": "stream",
     "text": [
      "The modified tuple is:  (23, 45, 68, 10, 45, 7, 9)\n"
     ]
    }
   ],
   "source": [
    "tuple_modified = list(question_12)\n",
    "tuple_modified.remove(56)\n",
    "print (\"The modified tuple is: \", tuple (tuple_modified))"
   ]
  },
  {
   "cell_type": "markdown",
   "id": "1fb430bb",
   "metadata": {},
   "source": [
    "# Question 13"
   ]
  },
  {
   "cell_type": "code",
   "execution_count": 23,
   "id": "9bf5b823",
   "metadata": {},
   "outputs": [
    {
     "data": {
      "text/plain": [
       "(40, 50, 60, 70, 80)"
      ]
     },
     "execution_count": 23,
     "metadata": {},
     "output_type": "execute_result"
    }
   ],
   "source": [
    "question_13 = (10, 20, 30, 40, 50, 60, 70, 80, 90, 100)\n",
    "question_13[3:8:1]"
   ]
  },
  {
   "cell_type": "markdown",
   "id": "7b9d6ec0",
   "metadata": {},
   "source": [
    "# Question 14"
   ]
  },
  {
   "cell_type": "code",
   "execution_count": 24,
   "id": "0cedc060",
   "metadata": {},
   "outputs": [],
   "source": [
    "question_14 = (23, 45, 67, 78, 89, 90, 34, 56)"
   ]
  },
  {
   "cell_type": "code",
   "execution_count": 25,
   "id": "aa6e1656",
   "metadata": {},
   "outputs": [
    {
     "name": "stdout",
     "output_type": "stream",
     "text": [
      "Item = 78\n",
      "Index Number =  3\n"
     ]
    }
   ],
   "source": [
    "item = int(input(\"Item = \"))\n",
    "print (\"Index Number = \", question_14.index(item))"
   ]
  },
  {
   "cell_type": "markdown",
   "id": "9f29c070",
   "metadata": {},
   "source": [
    "# Question 15"
   ]
  },
  {
   "cell_type": "code",
   "execution_count": 26,
   "id": "61e617ed",
   "metadata": {},
   "outputs": [
    {
     "name": "stdout",
     "output_type": "stream",
     "text": [
      "Length =  6\n"
     ]
    }
   ],
   "source": [
    "question_15 = (\"Lion\", \"Cat\", \"Dog\", \"Panda\", \"Tiger\", \"Fox\")\n",
    "print (\"Length = \", len(question_15))"
   ]
  },
  {
   "cell_type": "markdown",
   "id": "fb77a2fe",
   "metadata": {},
   "source": [
    "# Question 16"
   ]
  },
  {
   "cell_type": "code",
   "execution_count": 27,
   "id": "c56c34c0",
   "metadata": {},
   "outputs": [
    {
     "data": {
      "text/plain": [
       "{'Name': 'Ram', 'Age': 23, 'City': 'Salem', 'Mark': 422}"
      ]
     },
     "execution_count": 27,
     "metadata": {},
     "output_type": "execute_result"
    }
   ],
   "source": [
    "question_16 = ( (\"Name\", \"Ram\"), (\"Age\", 23), (\"City\", \"Salem\"), (\"Mark\", 422) )\n",
    "dictionary = dict(question_16)\n",
    "dictionary"
   ]
  },
  {
   "cell_type": "markdown",
   "id": "b51265e4",
   "metadata": {},
   "source": [
    "# Question 17"
   ]
  },
  {
   "cell_type": "code",
   "execution_count": 28,
   "id": "25d0abf8",
   "metadata": {},
   "outputs": [],
   "source": [
    "question_17 = [ (10,30), (60,90), (20,50) ]"
   ]
  },
  {
   "cell_type": "code",
   "execution_count": 29,
   "id": "689284fa",
   "metadata": {},
   "outputs": [],
   "source": [
    "list_1 = []\n",
    "list_2 = []\n",
    "for i in question_17:\n",
    "    for j in i:\n",
    "        if j == i[0]:\n",
    "            list_1.append(j)\n",
    "        elif j == i[-1]:\n",
    "            list_2.append(j)"
   ]
  },
  {
   "cell_type": "code",
   "execution_count": 30,
   "id": "e869a0aa",
   "metadata": {},
   "outputs": [],
   "source": [
    "tuple_1 = tuple (list_1)"
   ]
  },
  {
   "cell_type": "code",
   "execution_count": 31,
   "id": "b4105ac7",
   "metadata": {},
   "outputs": [],
   "source": [
    "tuple_2 = tuple (list_2)"
   ]
  },
  {
   "cell_type": "code",
   "execution_count": 32,
   "id": "95fd047e",
   "metadata": {},
   "outputs": [
    {
     "data": {
      "text/plain": [
       "(10, 60, 20, 30, 90, 50)"
      ]
     },
     "execution_count": 32,
     "metadata": {},
     "output_type": "execute_result"
    }
   ],
   "source": [
    "zipped = tuple_1+tuple_2\n",
    "zipped"
   ]
  },
  {
   "cell_type": "markdown",
   "id": "d3137316",
   "metadata": {},
   "source": [
    "# Question 18"
   ]
  },
  {
   "cell_type": "code",
   "execution_count": 33,
   "id": "f8ca2ebe",
   "metadata": {},
   "outputs": [],
   "source": [
    "question_18 = ( 23, 45, 67, 78, 89, 90, 34, 56 )"
   ]
  },
  {
   "cell_type": "code",
   "execution_count": 34,
   "id": "3189f418",
   "metadata": {},
   "outputs": [
    {
     "name": "stdout",
     "output_type": "stream",
     "text": [
      "Before Reversed:  (23, 45, 67, 78, 89, 90, 34, 56)\n",
      "After Reversed:  (56, 34, 90, 89, 78, 67, 45, 23)\n"
     ]
    }
   ],
   "source": [
    "reversed_tup = question_18[::-1]\n",
    "print (\"Before Reversed: \", question_18)\n",
    "print (\"After Reversed: \", reversed_tup)"
   ]
  },
  {
   "cell_type": "markdown",
   "id": "4139bcbb",
   "metadata": {},
   "source": [
    "# Question 19"
   ]
  },
  {
   "cell_type": "code",
   "execution_count": 35,
   "id": "97378748",
   "metadata": {},
   "outputs": [],
   "source": [
    "from collections import defaultdict\n",
    "\n",
    "# Function to convert a list of tuples into a dictionary with lists of values\n",
    "def tuples_list_to_dict(tuples_list):\n",
    "    dictionary = defaultdict(list)\n",
    "    \n",
    "    for key, value in tuples_list:\n",
    "        dictionary[key].append(value)\n",
    "    \n",
    "    return dict(dictionary)"
   ]
  },
  {
   "cell_type": "code",
   "execution_count": 36,
   "id": "d84a8da1",
   "metadata": {},
   "outputs": [
    {
     "name": "stdout",
     "output_type": "stream",
     "text": [
      "{'Name': ['Ram', 'Pooja'], 'Age': [21, 23], 'Gender': ['Male', 'Female']}\n"
     ]
    }
   ],
   "source": [
    "tuples_list = [\n",
    "    (\"Name\", \"Ram\"),\n",
    "    (\"Name\", \"Pooja\"),\n",
    "    (\"Age\", 21),\n",
    "    (\"Gender\", \"Male\"),\n",
    "    (\"Age\", 23),\n",
    "    (\"Gender\", \"Female\")\n",
    "]\n",
    "\n",
    "dictionary = tuples_list_to_dict(tuples_list)\n",
    "\n",
    "print(dictionary)"
   ]
  },
  {
   "cell_type": "markdown",
   "id": "38a335b0",
   "metadata": {},
   "source": [
    "# Question 20"
   ]
  },
  {
   "cell_type": "code",
   "execution_count": 37,
   "id": "48b85b07",
   "metadata": {},
   "outputs": [],
   "source": [
    "question_20 = (\"watermelons\", \"strawberries\", \"mangoes\", \"bananas\", \"grapefruits\", \"oranges\", \"apples\", \"pears\")"
   ]
  },
  {
   "cell_type": "code",
   "execution_count": 38,
   "id": "10599c5d",
   "metadata": {},
   "outputs": [
    {
     "name": "stdout",
     "output_type": "stream",
     "text": [
      "Fruits('watermelons', 'strawberries', 'mangoes', 'bananas', 'grapefruits', 'oranges', 'apples', 'pears')\n"
     ]
    }
   ],
   "source": [
    "print(f\"Fruits{question_20}\")"
   ]
  },
  {
   "cell_type": "markdown",
   "id": "b9d388fa",
   "metadata": {},
   "source": [
    "# Question 21"
   ]
  },
  {
   "cell_type": "code",
   "execution_count": 39,
   "id": "e20ac209",
   "metadata": {},
   "outputs": [
    {
     "name": "stdout",
     "output_type": "stream",
     "text": [
      "<class 'tuple'>\n"
     ]
    }
   ],
   "source": [
    "question_21 = (21,)\n",
    "print(type(question_21))"
   ]
  },
  {
   "cell_type": "markdown",
   "id": "1e038b8a",
   "metadata": {},
   "source": [
    "# Question 22"
   ]
  },
  {
   "cell_type": "code",
   "execution_count": 40,
   "id": "2338ec6b",
   "metadata": {},
   "outputs": [],
   "source": [
    "Tuple = (11, 22, 33, 44, 55)"
   ]
  },
  {
   "cell_type": "code",
   "execution_count": 41,
   "id": "f194b856",
   "metadata": {},
   "outputs": [
    {
     "name": "stdout",
     "output_type": "stream",
     "text": [
      "11\n",
      "22\n",
      "33\n",
      "44\n",
      "55\n"
     ]
    }
   ],
   "source": [
    "for i in Tuple:\n",
    "    print(i)"
   ]
  },
  {
   "cell_type": "markdown",
   "id": "4a55e92d",
   "metadata": {},
   "source": [
    "# Question 23"
   ]
  },
  {
   "cell_type": "code",
   "execution_count": 42,
   "id": "a8fc6e67",
   "metadata": {},
   "outputs": [
    {
     "name": "stdout",
     "output_type": "stream",
     "text": [
      "Before Swap A:  (10, 15)\n",
      "Before Swap B:  (20, 35)\n"
     ]
    }
   ],
   "source": [
    "A = 10,15\n",
    "B = 20, 35\n",
    "\n",
    "print (\"Before Swap A: \", A)\n",
    "print (\"Before Swap B: \", B)"
   ]
  },
  {
   "cell_type": "code",
   "execution_count": 43,
   "id": "809457f7",
   "metadata": {},
   "outputs": [
    {
     "name": "stdout",
     "output_type": "stream",
     "text": [
      "After Swap A:  (20, 35)\n",
      "After Swap B:  (10, 15)\n"
     ]
    }
   ],
   "source": [
    "A, B = B,A\n",
    "\n",
    "print (\"After Swap A: \", A)\n",
    "print (\"After Swap B: \", B)"
   ]
  },
  {
   "cell_type": "markdown",
   "id": "f887710d",
   "metadata": {},
   "source": [
    "# Question 24"
   ]
  },
  {
   "cell_type": "code",
   "execution_count": 44,
   "id": "f4a6c599",
   "metadata": {},
   "outputs": [],
   "source": [
    "question_24 = (10, 20, 30, 40, 50, 60, 70, 80, 90, 100)"
   ]
  },
  {
   "cell_type": "code",
   "execution_count": 45,
   "id": "32ecdf19",
   "metadata": {},
   "outputs": [
    {
     "name": "stdout",
     "output_type": "stream",
     "text": [
      "(30, 40, 50, 60, 70, 80)\n"
     ]
    }
   ],
   "source": [
    "new_tup = ()\n",
    "for i in question_24:\n",
    "    if i>=30 and i <=80:\n",
    "        new_tup = new_tup+(i,)\n",
    "print (new_tup)"
   ]
  },
  {
   "cell_type": "markdown",
   "id": "daffd088",
   "metadata": {},
   "source": [
    "# Question 25"
   ]
  },
  {
   "cell_type": "code",
   "execution_count": 46,
   "id": "79fbe619",
   "metadata": {},
   "outputs": [
    {
     "data": {
      "text/plain": [
       "(10, 20, 33, 40, 50)"
      ]
     },
     "execution_count": 46,
     "metadata": {},
     "output_type": "execute_result"
    }
   ],
   "source": [
    "question_25 = (10, 20, 30, 40, 50)\n",
    "question_25 = list(question_25)\n",
    "question_25.insert(question_25.index(30),33)\n",
    "question_25.remove(30)\n",
    "\n",
    "question_25 = tuple(question_25)\n",
    "question_25"
   ]
  },
  {
   "cell_type": "markdown",
   "id": "f302d01a",
   "metadata": {},
   "source": [
    "# Question 26"
   ]
  },
  {
   "cell_type": "code",
   "execution_count": 47,
   "id": "7dff1ea3",
   "metadata": {},
   "outputs": [],
   "source": [
    "question_26 = ( ('a', 53), ('b', 37), ('c', 23), ('d', 1), ('e', 18) )"
   ]
  },
  {
   "cell_type": "code",
   "execution_count": 48,
   "id": "93f86db3",
   "metadata": {},
   "outputs": [
    {
     "data": {
      "text/plain": [
       "(('d', 1), ('e', 18), ('c', 23), ('b', 37), ('a', 53))"
      ]
     },
     "execution_count": 48,
     "metadata": {},
     "output_type": "execute_result"
    }
   ],
   "source": [
    "tuple(sorted(question_26,key=lambda x: x[1]))"
   ]
  },
  {
   "cell_type": "markdown",
   "id": "1cd83701",
   "metadata": {},
   "source": [
    "# Question 27"
   ]
  },
  {
   "cell_type": "code",
   "execution_count": 49,
   "id": "fc36f251",
   "metadata": {},
   "outputs": [
    {
     "name": "stdout",
     "output_type": "stream",
     "text": [
      "Number of count of 30:  3\n"
     ]
    }
   ],
   "source": [
    "question_27 = (30, 50, 10, 30, 70, 50, 30)\n",
    "\n",
    "print (\"Number of count of 30: \",question_27.count(30))"
   ]
  },
  {
   "cell_type": "markdown",
   "id": "427654fe",
   "metadata": {},
   "source": [
    "# Question 28"
   ]
  },
  {
   "cell_type": "code",
   "execution_count": 50,
   "id": "f32ccb9a",
   "metadata": {},
   "outputs": [],
   "source": [
    "A = (2, 5, 8)\n",
    "B = (6, 5, 1)\n",
    "C = (1, 4, 7)\n",
    "D = (3, 7, 2)"
   ]
  },
  {
   "cell_type": "code",
   "execution_count": 51,
   "id": "8f851b54",
   "metadata": {},
   "outputs": [
    {
     "name": "stdout",
     "output_type": "stream",
     "text": [
      "sum of elements =  (12, 21, 18)\n"
     ]
    }
   ],
   "source": [
    "element_1 = A[0]+B[0]+C[0]+D[0]\n",
    "element_2 = A[1]+B[1]+C[1]+D[1]\n",
    "element_3 = A[2]+B[2]+C[2]+D[2]\n",
    "print (\"sum of elements = \", (element_1, element_2, element_3))"
   ]
  },
  {
   "cell_type": "markdown",
   "id": "958c8f66",
   "metadata": {},
   "source": [
    "# Question 29"
   ]
  },
  {
   "cell_type": "code",
   "execution_count": 52,
   "id": "acf8a106",
   "metadata": {},
   "outputs": [
    {
     "name": "stdout",
     "output_type": "stream",
     "text": [
      "(('Jeeva', '91.40'), ('Ram', '89.20'), ('Pooja', '84.40'), ('Siva', '76.45'), ('Tara', '68.43'))\n"
     ]
    }
   ],
   "source": [
    "def sort_by_float_element(question_29, float_index):\n",
    "    return tuple(sorted(question_29, reverse = True, key=lambda x: x[float_index]))\n",
    "\n",
    "question_29 = [ ('Ram', '89.20'), ('Siva', '76.45'), ('Pooja', '84.40'), ('Tara', '68.43'), ('Jeeva', '91.40') ]\n",
    "\n",
    "sorted_tuples = sort_by_float_element(question_29, 1)\n",
    "\n",
    "print(sorted_tuples)"
   ]
  },
  {
   "cell_type": "markdown",
   "id": "000cd13f",
   "metadata": {},
   "source": [
    "# Question 30"
   ]
  },
  {
   "cell_type": "code",
   "execution_count": 53,
   "id": "86ee8fcb",
   "metadata": {},
   "outputs": [
    {
     "name": "stdout",
     "output_type": "stream",
     "text": [
      "<class 'list'>\n"
     ]
    }
   ],
   "source": [
    "question_30 = [(5, 2, 3), (4, 7, 6), (8, 9, 6)]\n",
    "print(type(question_30))\n",
    "new_value = 10"
   ]
  },
  {
   "cell_type": "code",
   "execution_count": 54,
   "id": "44f827c9",
   "metadata": {},
   "outputs": [
    {
     "data": {
      "text/plain": [
       "[(5, 2, 10), (4, 7, 10), (8, 9, 10)]"
      ]
     },
     "execution_count": 54,
     "metadata": {},
     "output_type": "execute_result"
    }
   ],
   "source": [
    "updated_list = [i[:-1]+ (new_value,) for i in question_30]\n",
    "updated_list"
   ]
  },
  {
   "cell_type": "markdown",
   "id": "7b1dad43",
   "metadata": {},
   "source": [
    "# Question 31"
   ]
  },
  {
   "cell_type": "code",
   "execution_count": 55,
   "id": "06a2e61f",
   "metadata": {},
   "outputs": [],
   "source": [
    "question_31 = [ (47, 23), (3, 78), (22, 53), (121, 45), (7,) ]"
   ]
  },
  {
   "cell_type": "code",
   "execution_count": 56,
   "id": "ec2143ab",
   "metadata": {},
   "outputs": [
    {
     "name": "stdout",
     "output_type": "stream",
     "text": [
      "<class 'tuple'>\n"
     ]
    }
   ],
   "source": [
    "k = 2\n",
    "updated_list = ()\n",
    "print(type(updated_list))"
   ]
  },
  {
   "cell_type": "code",
   "execution_count": 57,
   "id": "c7011a7d",
   "metadata": {},
   "outputs": [
    {
     "data": {
      "text/plain": [
       "(47, 23, 78, 22, 53, 45)"
      ]
     },
     "execution_count": 57,
     "metadata": {},
     "output_type": "execute_result"
    }
   ],
   "source": [
    "\n",
    "for i in question_31:\n",
    "    for j in i:\n",
    "        if j>9 and j<100:\n",
    "            updated_list = updated_list+(j,)\n",
    "updated_list"
   ]
  },
  {
   "cell_type": "markdown",
   "id": "1ef4bb37",
   "metadata": {},
   "source": [
    "# Question 32"
   ]
  },
  {
   "cell_type": "code",
   "execution_count": 58,
   "id": "c5d59e43",
   "metadata": {},
   "outputs": [
    {
     "name": "stdout",
     "output_type": "stream",
     "text": [
      "{(2, 9), (18, 23)}\n"
     ]
    }
   ],
   "source": [
    "question_32 = [ (18, 23), (2, 9), (7, 6), (9, 2), (10, 2), (23, 18) ]\n",
    "\n",
    "sorted_tuples = [tuple(sorted(t)) for t in question_32]\n",
    "\n",
    "set_result = set()\n",
    "for i in sorted_tuples:\n",
    "    if sorted_tuples.count(i) > 1:\n",
    "        set_result.add(i)\n",
    "\n",
    "results = set_result\n",
    "print(results)"
   ]
  },
  {
   "cell_type": "markdown",
   "id": "6da3269b",
   "metadata": {},
   "source": [
    "# Question 33"
   ]
  },
  {
   "cell_type": "code",
   "execution_count": 59,
   "id": "6a30481b",
   "metadata": {},
   "outputs": [],
   "source": [
    "question_33 = [ (4, 5, 5, 7), (1, 3, 7, 4), (19, 4, 5, 3), (1, 2) ]"
   ]
  },
  {
   "cell_type": "code",
   "execution_count": 60,
   "id": "ccb7026f",
   "metadata": {},
   "outputs": [
    {
     "data": {
      "text/plain": [
       "[(19, 4, 5, 3), (4, 5, 5, 7), (1, 3, 7, 4), (1, 2)]"
      ]
     },
     "execution_count": 60,
     "metadata": {},
     "output_type": "execute_result"
    }
   ],
   "source": [
    "question_33_sorted = sorted(question_33, reverse = True)\n",
    "question_33_sorted"
   ]
  },
  {
   "cell_type": "markdown",
   "id": "c5af5631",
   "metadata": {},
   "source": [
    "# Question 34"
   ]
  },
  {
   "cell_type": "code",
   "execution_count": 61,
   "id": "b3897d25",
   "metadata": {},
   "outputs": [
    {
     "data": {
      "text/plain": [
       "{10, 20, 40, 70}"
      ]
     },
     "execution_count": 61,
     "metadata": {},
     "output_type": "execute_result"
    }
   ],
   "source": [
    "question_34 = (10, 20, (30,), 40, (50, 60), 70)\n",
    "\n",
    "empty_tuple = set()\n",
    "for i in question_34:\n",
    "    if isinstance(i, tuple):\n",
    "        pass\n",
    "    else:\n",
    "        empty_tuple.add(i)\n",
    "\n",
    "empty_tuple"
   ]
  },
  {
   "cell_type": "markdown",
   "id": "7d018db6",
   "metadata": {},
   "source": [
    "# Question 35"
   ]
  },
  {
   "cell_type": "code",
   "execution_count": 62,
   "id": "09ca061f",
   "metadata": {},
   "outputs": [
    {
     "name": "stdout",
     "output_type": "stream",
     "text": [
      "{10: 2, 20: 2, 30: 1, 40: 1, 50: 1, 60: 2, 70: 1}\n"
     ]
    }
   ],
   "source": [
    "from collections import defaultdict\n",
    "\n",
    "# Function to flatten a nested tuple and count element frequencies\n",
    "def flatten_and_count(nested_tuple):\n",
    "    # Initialize a defaultdict to store frequencies\n",
    "    frequency_dict = defaultdict(int)\n",
    "    \n",
    "    # Helper function to recursively flatten the tuple\n",
    "    def flatten(tpl):\n",
    "        for item in tpl:\n",
    "            if isinstance(item, tuple):\n",
    "                flatten(item)  # Recursively flatten the nested tuple\n",
    "            else:\n",
    "                frequency_dict[item] += 1  # Count the element\n",
    "    \n",
    "    # Call the helper function to start flattening and counting\n",
    "    flatten(nested_tuple)\n",
    "    \n",
    "    return dict(frequency_dict)\n",
    "\n",
    "mixed_tuple =(10, 20, (20, 10), 30, (40, 50, 60), 60, 70)\n",
    "element_frequencies = flatten_and_count(mixed_tuple)\n",
    "\n",
    "print(element_frequencies)"
   ]
  },
  {
   "cell_type": "markdown",
   "id": "ddb24daa",
   "metadata": {},
   "source": [
    "# Question 36"
   ]
  },
  {
   "cell_type": "code",
   "execution_count": 63,
   "id": "e23fd348",
   "metadata": {},
   "outputs": [],
   "source": [
    "question_36 = [ (1, 3, 5), (4, 5, 7), (1, 2, 6), (10, 9), (10,) ]"
   ]
  },
  {
   "cell_type": "code",
   "execution_count": 64,
   "id": "24e7f372",
   "metadata": {},
   "outputs": [
    {
     "name": "stdout",
     "output_type": "stream",
     "text": [
      "Unique Element in Nested Tuples: [1, 2, 3, 4, 5, 6, 7, 9, 10]\n"
     ]
    }
   ],
   "source": [
    "flattened_elements = [item for subtuple in question_36 for item in subtuple]\n",
    "unique_elements = set(flattened_elements)\n",
    "print (\"Unique Element in Nested Tuples:\",list (unique_elements))"
   ]
  },
  {
   "cell_type": "markdown",
   "id": "7ae33402",
   "metadata": {},
   "source": [
    "# Question 37"
   ]
  },
  {
   "cell_type": "code",
   "execution_count": 65,
   "id": "a51f0db7",
   "metadata": {},
   "outputs": [
    {
     "data": {
      "text/plain": [
       "((18, 23, 2, 9), (10, 3, 11))"
      ]
     },
     "execution_count": 65,
     "metadata": {},
     "output_type": "execute_result"
    }
   ],
   "source": [
    "Tuple_1 = ((18, 23, 2, 9),)\n",
    "Tuple_2 = ((10, 3, 11),)\n",
    "result = Tuple_1+Tuple_2\n",
    "result"
   ]
  },
  {
   "cell_type": "markdown",
   "id": "3bc70155",
   "metadata": {},
   "source": [
    "# Question 38"
   ]
  },
  {
   "cell_type": "code",
   "execution_count": 66,
   "id": "e8cb1214",
   "metadata": {},
   "outputs": [],
   "source": [
    "question_38 = [ (2, 7), (3, 7), (2, 5), (8, 7), (6, 5), (9, 8) ]"
   ]
  },
  {
   "cell_type": "code",
   "execution_count": 67,
   "id": "45bb3123",
   "metadata": {},
   "outputs": [],
   "source": [
    "from collections import Counter"
   ]
  },
  {
   "cell_type": "code",
   "execution_count": 68,
   "id": "86702734",
   "metadata": {},
   "outputs": [],
   "source": [
    "frequency_counter = Counter(t[1] for t in question_38)\n",
    "sorted_list = tuple (sorted(question_38, key = lambda x:frequency_counter[x[1]], reverse=True))"
   ]
  },
  {
   "cell_type": "code",
   "execution_count": 69,
   "id": "26dd011d",
   "metadata": {},
   "outputs": [
    {
     "data": {
      "text/plain": [
       "((2, 7), (3, 7), (8, 7), (2, 5), (6, 5), (9, 8))"
      ]
     },
     "execution_count": 69,
     "metadata": {},
     "output_type": "execute_result"
    }
   ],
   "source": [
    "sorted_list"
   ]
  },
  {
   "cell_type": "markdown",
   "id": "eea3adff",
   "metadata": {},
   "source": [
    "# Question 39"
   ]
  },
  {
   "cell_type": "code",
   "execution_count": 70,
   "id": "aed45020",
   "metadata": {},
   "outputs": [
    {
     "name": "stdout",
     "output_type": "stream",
     "text": [
      "<class 'tuple'>\n"
     ]
    }
   ],
   "source": [
    "question_39 = ( [10, 50, 60], [80, 20, 30], [70, 100, 40], (90,) )\n",
    "print (type(question_39))"
   ]
  },
  {
   "cell_type": "code",
   "execution_count": 71,
   "id": "f051d83f",
   "metadata": {},
   "outputs": [
    {
     "data": {
      "text/plain": [
       "([10, 50, 60], [20, 30, 80], [40, 70, 100], [90])"
      ]
     },
     "execution_count": 71,
     "metadata": {},
     "output_type": "execute_result"
    }
   ],
   "source": [
    "Sorted_list = tuple(sorted(i) for i in question_39)\n",
    "Sorted_list"
   ]
  },
  {
   "cell_type": "markdown",
   "id": "64add523",
   "metadata": {},
   "source": [
    "# Question 40"
   ]
  },
  {
   "cell_type": "code",
   "execution_count": 72,
   "id": "be458135",
   "metadata": {},
   "outputs": [],
   "source": [
    "question_40 = [ ('B', 68), ('D', 70), ('A', 67), ('C', 69) ]"
   ]
  },
  {
   "cell_type": "code",
   "execution_count": 73,
   "id": "1db48cae",
   "metadata": {},
   "outputs": [
    {
     "name": "stdout",
     "output_type": "stream",
     "text": [
      "Ordered tuple list:  (('A', 67), ('B', 68), ('C', 69), ('D', 70))\n"
     ]
    }
   ],
   "source": [
    "question_40 =tuple(sorted (question_40, key = lambda x:x[1]))\n",
    "print (\"Ordered tuple list: \",question_40)"
   ]
  },
  {
   "cell_type": "markdown",
   "id": "07bcf2b4",
   "metadata": {},
   "source": [
    "# Question 41"
   ]
  },
  {
   "cell_type": "code",
   "execution_count": 74,
   "id": "0a823475",
   "metadata": {},
   "outputs": [],
   "source": [
    "# Function to filter tuples by the Kth element\n",
    "def filter_tuples_by_kth_element(tuples_list, kth_elements, k_index):\n",
    "    # Use list comprehension to filter the tuples\n",
    "    return [t for t in tuples_list if t[k_index] in kth_elements]"
   ]
  },
  {
   "cell_type": "code",
   "execution_count": 75,
   "id": "da2ee28c",
   "metadata": {},
   "outputs": [],
   "source": [
    "tuples_list = [('B', 68), ('D', 70), ('A', 67), ('C', 69)]\n",
    "kth_elements = [67, 70, 71, 75]\n",
    "k_index = 1\n"
   ]
  },
  {
   "cell_type": "code",
   "execution_count": 76,
   "id": "f27778da",
   "metadata": {},
   "outputs": [
    {
     "name": "stdout",
     "output_type": "stream",
     "text": [
      "Filtered tuples: [('D', 70), ('A', 67)]\n"
     ]
    }
   ],
   "source": [
    "filtered_tuples = filter_tuples_by_kth_element(tuples_list, kth_elements, k_index)\n",
    "\n",
    "print(\"Filtered tuples:\", filtered_tuples)"
   ]
  },
  {
   "cell_type": "markdown",
   "id": "04f411c2",
   "metadata": {},
   "source": [
    "# Question 42"
   ]
  },
  {
   "cell_type": "code",
   "execution_count": 77,
   "id": "95fc2dd4",
   "metadata": {},
   "outputs": [
    {
     "name": "stdout",
     "output_type": "stream",
     "text": [
      "The Closest tuple to Kth index element is: (23, 18)\n"
     ]
    }
   ],
   "source": [
    "# Define the test list and the tuple\n",
    "test_list = [(23, 18), (9, 2), (2, 3), (9, 18), (23, 2)]\n",
    "tup = (20, 2)\n",
    "K = 1\n",
    "\n",
    "# Initialize variables\n",
    "min_dif, res = float('inf'), None\n",
    "\n",
    "# Loop through the list of tuples to find the closest tuple\n",
    "for idx, val in enumerate(test_list):\n",
    "    dif = abs(tup[K - 1] - val[K - 1])\n",
    "    if dif < min_dif:\n",
    "        min_dif, res = dif, idx\n",
    "\n",
    "# Print the result\n",
    "print(\"The Closest tuple to Kth index element is: \" + str(test_list[res]))"
   ]
  },
  {
   "cell_type": "markdown",
   "id": "a9663f21",
   "metadata": {},
   "source": [
    "# Question 43"
   ]
  },
  {
   "cell_type": "code",
   "execution_count": 78,
   "id": "1dafe07b",
   "metadata": {},
   "outputs": [
    {
     "name": "stdout",
     "output_type": "stream",
     "text": [
      "{(4, 5), (5, 6), (3, 4)}\n"
     ]
    }
   ],
   "source": [
    "# Initial lists of tuples\n",
    "list_1 = [(3, 4), (5, 6), (9, 10), (4, 5)]\n",
    "list_2 = [(5, 4), (3, 4), (6, 5), (9, 11)]\n",
    "\n",
    "# Convert each tuple to a sorted tuple and create sets\n",
    "set_1 = set(tuple(sorted(t)) for t in list_1)\n",
    "set_2 = set(tuple(sorted(t)) for t in list_2)\n",
    "\n",
    "# Find the intersection of the two sets\n",
    "intersection = set_1.intersection(set_2)\n",
    "\n",
    "# Print the result\n",
    "print(intersection)"
   ]
  },
  {
   "cell_type": "markdown",
   "id": "e53357f6",
   "metadata": {},
   "source": [
    "# Question 44"
   ]
  },
  {
   "cell_type": "code",
   "execution_count": 79,
   "id": "b33862f1",
   "metadata": {},
   "outputs": [],
   "source": [
    "list_1 = [ ('A', 65), ('D', 68), ('B', 66) ]\n",
    "list_2 = [ ('D', 68), ('C', 67), ('A', 65) ]"
   ]
  },
  {
   "cell_type": "code",
   "execution_count": 80,
   "id": "c2d6cee0",
   "metadata": {},
   "outputs": [],
   "source": [
    "set_1 = set(list_1)\n",
    "set_2 = set(list_2)"
   ]
  },
  {
   "cell_type": "code",
   "execution_count": 81,
   "id": "b14c19a3",
   "metadata": {},
   "outputs": [
    {
     "data": {
      "text/plain": [
       "{('A', 65), ('D', 68)}"
      ]
     },
     "execution_count": 81,
     "metadata": {},
     "output_type": "execute_result"
    }
   ],
   "source": [
    "results = set_1.intersection(set_2)\n",
    "results"
   ]
  },
  {
   "cell_type": "markdown",
   "id": "c2390de9",
   "metadata": {},
   "source": [
    "# Question 45"
   ]
  },
  {
   "cell_type": "code",
   "execution_count": 82,
   "id": "242dc3ed",
   "metadata": {},
   "outputs": [],
   "source": [
    "question_45 = [ (3, 4), (1, 2), (4, 3), (5, 6) ]"
   ]
  },
  {
   "cell_type": "code",
   "execution_count": 83,
   "id": "14d2d69f",
   "metadata": {},
   "outputs": [],
   "source": [
    "set_1 = set(tuple(sorted(t)) for t in question_45)"
   ]
  },
  {
   "cell_type": "code",
   "execution_count": 84,
   "id": "d030cf10",
   "metadata": {},
   "outputs": [
    {
     "name": "stdout",
     "output_type": "stream",
     "text": [
      "Unique tuples Frequency Count: 3\n"
     ]
    }
   ],
   "source": [
    "set_1 = list(set_1)\n",
    "print(\"Unique tuples Frequency Count:\",len(set_1))"
   ]
  },
  {
   "cell_type": "markdown",
   "id": "2a8491cc",
   "metadata": {},
   "source": [
    "# Question 46"
   ]
  },
  {
   "cell_type": "code",
   "execution_count": 85,
   "id": "70966c8a",
   "metadata": {},
   "outputs": [
    {
     "name": "stdout",
     "output_type": "stream",
     "text": [
      "summation of 1st position:  15\n"
     ]
    }
   ],
   "source": [
    "# Define the nested tuple\n",
    "nested_tuple = (1, (2, (3, (4, (5, None)))))\n",
    "\n",
    "def simple_sum_recursive(tup):\n",
    "    total = 0\n",
    "    if isinstance(tup, tuple):\n",
    "        for value in tup:\n",
    "            if isinstance(value, tuple):\n",
    "                total += simple_sum_recursive(value)\n",
    "            elif value is not None:\n",
    "                total += value\n",
    "    return total\n",
    "\n",
    "# Calculate the total sum\n",
    "total_sum = simple_sum_recursive(nested_tuple)\n",
    "\n",
    "# Print the result\n",
    "print(\"summation of 1st position: \", total_sum)"
   ]
  },
  {
   "cell_type": "markdown",
   "id": "f7460df7",
   "metadata": {},
   "source": [
    "# Question 47"
   ]
  },
  {
   "cell_type": "code",
   "execution_count": 86,
   "id": "6f39f547",
   "metadata": {},
   "outputs": [
    {
     "name": "stdout",
     "output_type": "stream",
     "text": [
      "10\n"
     ]
    }
   ],
   "source": [
    "question_47 = (1, 0, 1, 0)\n",
    "results = 0\n",
    "for index, value in enumerate(reversed(question_47)):\n",
    "    results += value * (2 ** index)\n",
    "\n",
    "print(results)"
   ]
  },
  {
   "cell_type": "markdown",
   "id": "07f5bc79",
   "metadata": {},
   "source": [
    "# Question 48"
   ]
  },
  {
   "cell_type": "code",
   "execution_count": 87,
   "id": "f7a633e3",
   "metadata": {},
   "outputs": [],
   "source": [
    "tup_1 = (10, 4, 6, 9)\n",
    "tup_2 = (5, 2, 3, 3)"
   ]
  },
  {
   "cell_type": "code",
   "execution_count": 88,
   "id": "5185a0cd",
   "metadata": {},
   "outputs": [
    {
     "data": {
      "text/plain": [
       "(15, 6, 5, 10)"
      ]
     },
     "execution_count": 88,
     "metadata": {},
     "output_type": "execute_result"
    }
   ],
   "source": [
    "results = tuple(a^b for a,b in zip(tup_1, tup_2))\n",
    "results"
   ]
  },
  {
   "cell_type": "markdown",
   "id": "5631ecf6",
   "metadata": {},
   "source": [
    "# Question 49"
   ]
  },
  {
   "cell_type": "code",
   "execution_count": 89,
   "id": "f48227f8",
   "metadata": {},
   "outputs": [],
   "source": [
    "tuple_1 = (10, 4, 6, 9)\n",
    "tuple_2 = (5, 2, 3, 3)"
   ]
  },
  {
   "cell_type": "code",
   "execution_count": 90,
   "id": "b214d3f7",
   "metadata": {},
   "outputs": [
    {
     "data": {
      "text/plain": [
       "(0, 0, 2, 1)"
      ]
     },
     "execution_count": 90,
     "metadata": {},
     "output_type": "execute_result"
    }
   ],
   "source": [
    "results = tuple(a & b for a, b in zip(tuple_1, tuple_2))\n",
    "results"
   ]
  },
  {
   "cell_type": "markdown",
   "id": "229324cc",
   "metadata": {},
   "source": [
    "# Question 50"
   ]
  },
  {
   "cell_type": "code",
   "execution_count": 91,
   "id": "34d74c82",
   "metadata": {},
   "outputs": [
    {
     "name": "stdout",
     "output_type": "stream",
     "text": [
      "Elementwise AND Tuple:  (0, 0, 2, 1)\n"
     ]
    }
   ],
   "source": [
    "tuple_1 = (10, 4, 6, 9)\n",
    "tuple_2 = (5, 2, 3, 3)\n",
    "results = (tuple_1[0]&tuple_2[0], tuple_1[1]&tuple_2[1], tuple_1[2]&tuple_2[2], tuple_1[3]&tuple_2[3])\n",
    "print (\"Elementwise AND Tuple: \",results)"
   ]
  }
 ],
 "metadata": {
  "kernelspec": {
   "display_name": "Python 3 (ipykernel)",
   "language": "python",
   "name": "python3"
  },
  "language_info": {
   "codemirror_mode": {
    "name": "ipython",
    "version": 3
   },
   "file_extension": ".py",
   "mimetype": "text/x-python",
   "name": "python",
   "nbconvert_exporter": "python",
   "pygments_lexer": "ipython3",
   "version": "3.9.13"
  }
 },
 "nbformat": 4,
 "nbformat_minor": 5
}
